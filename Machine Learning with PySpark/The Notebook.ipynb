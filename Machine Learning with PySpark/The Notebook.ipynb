{
 "cells": [
  {
   "cell_type": "markdown",
   "metadata": {
    "id": "xEcr4jdzTP7t"
   },
   "source": [
    "# **Welcome To the Notebook** \n"
   ]
  },
  {
   "cell_type": "markdown",
   "metadata": {
    "id": "O1eOogPqix4i"
   },
   "source": [
    "### **Task 1 - Loading our data**\n",
    "\n",
    "Installing the pyspark using pip"
   ]
  },
  {
   "cell_type": "code",
   "execution_count": 1,
   "metadata": {
    "ExecuteTime": {
     "start_time": "2025-02-21T03:20:54.508964Z"
    },
    "colab": {
     "base_uri": "https://localhost:8080/"
    },
    "id": "pYfUECtFisDa",
    "jupyter": {
     "is_executing": true
    },
    "outputId": "7a88ce4f-9754-4859-cdfc-ca329a4181fc"
   },
   "outputs": [
    {
     "name": "stdout",
     "output_type": "stream",
     "text": [
      "Requirement already satisfied: pyspark in /opt/anaconda3/envs/myenv/lib/python3.11/site-packages (3.5.4)\n",
      "Requirement already satisfied: py4j==0.10.9.7 in /opt/anaconda3/envs/myenv/lib/python3.11/site-packages (from pyspark) (0.10.9.7)\n"
     ]
    }
   ],
   "source": [
    "!pip install pyspark"
   ]
  },
  {
   "cell_type": "markdown",
   "metadata": {
    "id": "cr4LlOxmvUmW"
   },
   "source": [
    "Importing Modules"
   ]
  },
  {
   "cell_type": "code",
   "execution_count": 2,
   "metadata": {
    "id": "tiE8RPAHvWHD"
   },
   "outputs": [
    {
     "name": "stdout",
     "output_type": "stream",
     "text": [
      "Requirement already satisfied: matplotlib in /opt/anaconda3/envs/myenv/lib/python3.11/site-packages (3.10.0)\n",
      "Requirement already satisfied: contourpy>=1.0.1 in /opt/anaconda3/envs/myenv/lib/python3.11/site-packages (from matplotlib) (1.3.1)\n",
      "Requirement already satisfied: cycler>=0.10 in /opt/anaconda3/envs/myenv/lib/python3.11/site-packages (from matplotlib) (0.12.1)\n",
      "Requirement already satisfied: fonttools>=4.22.0 in /opt/anaconda3/envs/myenv/lib/python3.11/site-packages (from matplotlib) (4.56.0)\n",
      "Requirement already satisfied: kiwisolver>=1.3.1 in /opt/anaconda3/envs/myenv/lib/python3.11/site-packages (from matplotlib) (1.4.8)\n",
      "Requirement already satisfied: numpy>=1.23 in /opt/anaconda3/envs/myenv/lib/python3.11/site-packages (from matplotlib) (2.2.3)\n",
      "Requirement already satisfied: packaging>=20.0 in /opt/anaconda3/envs/myenv/lib/python3.11/site-packages (from matplotlib) (24.2)\n",
      "Requirement already satisfied: pillow>=8 in /opt/anaconda3/envs/myenv/lib/python3.11/site-packages (from matplotlib) (11.1.0)\n",
      "Requirement already satisfied: pyparsing>=2.3.1 in /opt/anaconda3/envs/myenv/lib/python3.11/site-packages (from matplotlib) (3.2.1)\n",
      "Requirement already satisfied: python-dateutil>=2.7 in /opt/anaconda3/envs/myenv/lib/python3.11/site-packages (from matplotlib) (2.9.0.post0)\n",
      "Requirement already satisfied: six>=1.5 in /opt/anaconda3/envs/myenv/lib/python3.11/site-packages (from python-dateutil>=2.7->matplotlib) (1.17.0)\n",
      "Requirement already satisfied: plotly in /opt/anaconda3/envs/myenv/lib/python3.11/site-packages (6.0.0)\n",
      "Requirement already satisfied: narwhals>=1.15.1 in /opt/anaconda3/envs/myenv/lib/python3.11/site-packages (from plotly) (1.27.1)\n",
      "Requirement already satisfied: packaging in /opt/anaconda3/envs/myenv/lib/python3.11/site-packages (from plotly) (24.2)\n",
      "Requirement already satisfied: seaborn in /opt/anaconda3/envs/myenv/lib/python3.11/site-packages (0.13.2)\n",
      "Requirement already satisfied: numpy!=1.24.0,>=1.20 in /opt/anaconda3/envs/myenv/lib/python3.11/site-packages (from seaborn) (2.2.3)\n",
      "Requirement already satisfied: pandas>=1.2 in /opt/anaconda3/envs/myenv/lib/python3.11/site-packages (from seaborn) (2.2.3)\n",
      "Requirement already satisfied: matplotlib!=3.6.1,>=3.4 in /opt/anaconda3/envs/myenv/lib/python3.11/site-packages (from seaborn) (3.10.0)\n",
      "Requirement already satisfied: contourpy>=1.0.1 in /opt/anaconda3/envs/myenv/lib/python3.11/site-packages (from matplotlib!=3.6.1,>=3.4->seaborn) (1.3.1)\n",
      "Requirement already satisfied: cycler>=0.10 in /opt/anaconda3/envs/myenv/lib/python3.11/site-packages (from matplotlib!=3.6.1,>=3.4->seaborn) (0.12.1)\n",
      "Requirement already satisfied: fonttools>=4.22.0 in /opt/anaconda3/envs/myenv/lib/python3.11/site-packages (from matplotlib!=3.6.1,>=3.4->seaborn) (4.56.0)\n",
      "Requirement already satisfied: kiwisolver>=1.3.1 in /opt/anaconda3/envs/myenv/lib/python3.11/site-packages (from matplotlib!=3.6.1,>=3.4->seaborn) (1.4.8)\n",
      "Requirement already satisfied: packaging>=20.0 in /opt/anaconda3/envs/myenv/lib/python3.11/site-packages (from matplotlib!=3.6.1,>=3.4->seaborn) (24.2)\n",
      "Requirement already satisfied: pillow>=8 in /opt/anaconda3/envs/myenv/lib/python3.11/site-packages (from matplotlib!=3.6.1,>=3.4->seaborn) (11.1.0)\n",
      "Requirement already satisfied: pyparsing>=2.3.1 in /opt/anaconda3/envs/myenv/lib/python3.11/site-packages (from matplotlib!=3.6.1,>=3.4->seaborn) (3.2.1)\n",
      "Requirement already satisfied: python-dateutil>=2.7 in /opt/anaconda3/envs/myenv/lib/python3.11/site-packages (from matplotlib!=3.6.1,>=3.4->seaborn) (2.9.0.post0)\n",
      "Requirement already satisfied: pytz>=2020.1 in /opt/anaconda3/envs/myenv/lib/python3.11/site-packages (from pandas>=1.2->seaborn) (2025.1)\n",
      "Requirement already satisfied: tzdata>=2022.7 in /opt/anaconda3/envs/myenv/lib/python3.11/site-packages (from pandas>=1.2->seaborn) (2025.1)\n",
      "Requirement already satisfied: six>=1.5 in /opt/anaconda3/envs/myenv/lib/python3.11/site-packages (from python-dateutil>=2.7->matplotlib!=3.6.1,>=3.4->seaborn) (1.17.0)\n"
     ]
    }
   ],
   "source": [
    "# importing spark session\n",
    "from pyspark.sql import SparkSession\n",
    "\n",
    "# data visualization modules \n",
    "!pip install matplotlib\n",
    "!pip install plotly\n",
    "!pip install seaborn\n",
    "import matplotlib.pyplot as plt\n",
    "import plotly.express as px\n",
    "import seaborn as sns\n",
    "\n",
    "# pandas module \n",
    "import pandas as pd\n",
    "\n",
    "# pyspark SQL functions \n",
    "from pyspark.sql.functions import col, when, count, udf, isnan\n",
    "\n",
    "# pyspark data preprocessing modules\n",
    "from pyspark.ml.feature import Imputer, StringIndexer, VectorAssembler, StandardScaler, OneHotEncoder\n",
    "\n",
    "# pyspark data modeling and model evaluation modules\n",
    "from pyspark.ml.classification import DecisionTreeClassifier\n",
    "from pyspark.ml.evaluation import BinaryClassificationEvaluator\n"
   ]
  },
  {
   "cell_type": "markdown",
   "metadata": {
    "id": "W-_0aGYvj6sI"
   },
   "source": [
    "Building our Spark Session"
   ]
  },
  {
   "cell_type": "code",
   "execution_count": 3,
   "metadata": {
    "colab": {
     "base_uri": "https://localhost:8080/",
     "height": 219
    },
    "id": "qQgz_0Zgiilu",
    "outputId": "c2d690a8-e119-45e5-975f-57d16e55e1a7"
   },
   "outputs": [
    {
     "name": "stderr",
     "output_type": "stream",
     "text": [
      "25/02/21 18:20:36 WARN Utils: Your hostname, Syukris-MacBook-Air.local resolves to a loopback address: 127.0.0.1; using 192.168.0.187 instead (on interface en0)\n",
      "25/02/21 18:20:36 WARN Utils: Set SPARK_LOCAL_IP if you need to bind to another address\n",
      "Setting default log level to \"WARN\".\n",
      "To adjust logging level use sc.setLogLevel(newLevel). For SparkR, use setLogLevel(newLevel).\n",
      "25/02/21 18:20:37 WARN NativeCodeLoader: Unable to load native-hadoop library for your platform... using builtin-java classes where applicable\n"
     ]
    },
    {
     "data": {
      "text/html": [
       "\n",
       "            <div>\n",
       "                <p><b>SparkSession - in-memory</b></p>\n",
       "                \n",
       "        <div>\n",
       "            <p><b>SparkContext</b></p>\n",
       "\n",
       "            <p><a href=\"http://192.168.0.187:4040\">Spark UI</a></p>\n",
       "\n",
       "            <dl>\n",
       "              <dt>Version</dt>\n",
       "                <dd><code>v3.5.4</code></dd>\n",
       "              <dt>Master</dt>\n",
       "                <dd><code>local[*]</code></dd>\n",
       "              <dt>AppName</dt>\n",
       "                <dd><code>Customer_Churn_Prediction</code></dd>\n",
       "            </dl>\n",
       "        </div>\n",
       "        \n",
       "            </div>\n",
       "        "
      ],
      "text/plain": [
       "<pyspark.sql.session.SparkSession at 0x127e2d190>"
      ]
     },
     "execution_count": 3,
     "metadata": {},
     "output_type": "execute_result"
    }
   ],
   "source": [
    "spark = SparkSession.builder.appName(\"Customer_Churn_Prediction\").getOrCreate()\n",
    "spark"
   ]
  },
  {
   "cell_type": "markdown",
   "metadata": {
    "id": "B1aneLUYvh71"
   },
   "source": [
    "Loading our data"
   ]
  },
  {
   "cell_type": "code",
   "execution_count": 4,
   "metadata": {
    "colab": {
     "base_uri": "https://localhost:8080/"
    },
    "id": "J3Y1melCvqN5",
    "outputId": "4ec11999-9b13-425d-b229-f1455a667e9c"
   },
   "outputs": [
    {
     "name": "stdout",
     "output_type": "stream",
     "text": [
      "+----------+------+-------------+-------+----------+------+------------+----------------+---------------+--------------+------------+----------------+-----------+-----------+---------------+--------------+----------------+--------------------+--------------+------------+-----+\n",
      "|customerID|gender|SeniorCitizen|Partner|Dependents|tenure|PhoneService|   MultipleLines|InternetService|OnlineSecurity|OnlineBackup|DeviceProtection|TechSupport|StreamingTV|StreamingMovies|      Contract|PaperlessBilling|       PaymentMethod|MonthlyCharges|TotalCharges|Churn|\n",
      "+----------+------+-------------+-------+----------+------+------------+----------------+---------------+--------------+------------+----------------+-----------+-----------+---------------+--------------+----------------+--------------------+--------------+------------+-----+\n",
      "|7590-VHVEG|Female|           No|    Yes|        No|     1|          No|No phone service|            DSL|            No|         Yes|              No|         No|         No|             No|Month-to-month|             Yes|    Electronic check|         29.85|       29.85|   No|\n",
      "|5575-GNVDE|  Male|           No|     No|        No|    34|         Yes|              No|            DSL|           Yes|          No|             Yes|         No|         No|             No|      One year|              No|        Mailed check|         56.95|      1889.5|   No|\n",
      "|3668-QPYBK|  Male|           No|     No|        No|     2|         Yes|              No|            DSL|           Yes|         Yes|              No|         No|         No|             No|Month-to-month|             Yes|        Mailed check|         53.85|      108.15|  Yes|\n",
      "|7795-CFOCW|  Male|           No|     No|        No|    45|          No|No phone service|            DSL|           Yes|          No|             Yes|        Yes|         No|             No|      One year|              No|Bank transfer (au...|          42.3|     1840.75|   No|\n",
      "|9237-HQITU|Female|           No|     No|        No|     2|         Yes|              No|    Fiber optic|            No|          No|              No|         No|         No|             No|Month-to-month|             Yes|    Electronic check|          70.7|      151.65|  Yes|\n",
      "+----------+------+-------------+-------+----------+------+------------+----------------+---------------+--------------+------------+----------------+-----------+-----------+---------------+--------------+----------------+--------------------+--------------+------------+-----+\n",
      "only showing top 5 rows\n",
      "\n"
     ]
    }
   ],
   "source": [
    "data = spark.read.csv(\"dataset.csv\", header=True, inferSchema=True)\n",
    "\n",
    "# Show first 5 rows of the dataset\n",
    "data.show(5)"
   ]
  },
  {
   "cell_type": "markdown",
   "metadata": {
    "id": "TeY_Znoi4WQA"
   },
   "source": [
    "Print the data schema to check out the data types"
   ]
  },
  {
   "cell_type": "code",
   "execution_count": 5,
   "metadata": {
    "colab": {
     "base_uri": "https://localhost:8080/"
    },
    "id": "6yopaRXr4Ufr",
    "outputId": "0f54436b-6e4e-4c4a-8918-602bf92dba77"
   },
   "outputs": [
    {
     "name": "stdout",
     "output_type": "stream",
     "text": [
      "root\n",
      " |-- customerID: string (nullable = true)\n",
      " |-- gender: string (nullable = true)\n",
      " |-- SeniorCitizen: string (nullable = true)\n",
      " |-- Partner: string (nullable = true)\n",
      " |-- Dependents: string (nullable = true)\n",
      " |-- tenure: integer (nullable = true)\n",
      " |-- PhoneService: string (nullable = true)\n",
      " |-- MultipleLines: string (nullable = true)\n",
      " |-- InternetService: string (nullable = true)\n",
      " |-- OnlineSecurity: string (nullable = true)\n",
      " |-- OnlineBackup: string (nullable = true)\n",
      " |-- DeviceProtection: string (nullable = true)\n",
      " |-- TechSupport: string (nullable = true)\n",
      " |-- StreamingTV: string (nullable = true)\n",
      " |-- StreamingMovies: string (nullable = true)\n",
      " |-- Contract: string (nullable = true)\n",
      " |-- PaperlessBilling: string (nullable = true)\n",
      " |-- PaymentMethod: string (nullable = true)\n",
      " |-- MonthlyCharges: double (nullable = true)\n",
      " |-- TotalCharges: double (nullable = true)\n",
      " |-- Churn: string (nullable = true)\n",
      "\n"
     ]
    }
   ],
   "source": [
    "data.printSchema()"
   ]
  },
  {
   "cell_type": "markdown",
   "metadata": {
    "id": "Od0SPukD3kPI"
   },
   "source": [
    "Get the data dimension "
   ]
  },
  {
   "cell_type": "code",
   "execution_count": 6,
   "metadata": {
    "colab": {
     "base_uri": "https://localhost:8080/"
    },
    "id": "EW0B267Wv0tm",
    "outputId": "26ad0524-5261-4398-d7c2-3a953262cf9a"
   },
   "outputs": [
    {
     "name": "stdout",
     "output_type": "stream",
     "text": [
      "Dataset dimensions: (7043, 21)\n"
     ]
    }
   ],
   "source": [
    "# Get number of rows\n",
    "num_rows = data.count()\n",
    "\n",
    "# Get number of columns\n",
    "num_cols = len(data.columns)\n",
    "\n",
    "print(f\"Dataset dimensions: ({num_rows}, {num_cols})\")"
   ]
  },
  {
   "cell_type": "markdown",
   "metadata": {
    "id": "oZzDBEKT2H9P"
   },
   "source": [
    "### **Task 2 - Exploratory Data Analysis**\n",
    "- Distribution Analysis\n",
    "- Correlation Analysis \n",
    "- Univariate Analysis \n",
    "- Finding Missing values"
   ]
  },
  {
   "cell_type": "markdown",
   "metadata": {
    "id": "VUWEEw9VTVor"
   },
   "source": [
    "Let's define some lists to store different column names with different data types."
   ]
  },
  {
   "cell_type": "code",
   "execution_count": 7,
   "metadata": {
    "colab": {
     "base_uri": "https://localhost:8080/"
    },
    "id": "H4cJoyG-Ubel",
    "outputId": "d657bcec-743b-4e07-de9a-dfb96dd51cd7"
   },
   "outputs": [
    {
     "name": "stdout",
     "output_type": "stream",
     "text": [
      "String Columns: ['customerID', 'gender', 'SeniorCitizen', 'Partner', 'Dependents', 'PhoneService', 'MultipleLines', 'InternetService', 'OnlineSecurity', 'OnlineBackup', 'DeviceProtection', 'TechSupport', 'StreamingTV', 'StreamingMovies', 'Contract', 'PaperlessBilling', 'PaymentMethod', 'Churn']\n",
      "Numeric Columns: ['tenure', 'MonthlyCharges', 'TotalCharges']\n",
      "Date Columns: []\n"
     ]
    }
   ],
   "source": [
    "# Initialize lists\n",
    "string_cols = []\n",
    "numeric_cols = []\n",
    "date_cols = []\n",
    "\n",
    "# Categorize columns\n",
    "for col_name, col_type in data.dtypes:\n",
    "    if col_type.startswith(\"string\"):\n",
    "        string_cols.append(col_name)\n",
    "    elif col_type in (\"int\", \"bigint\", \"double\", \"float\", \"decimal\"):\n",
    "        numeric_cols.append(col_name)\n",
    "    elif col_type in (\"date\", \"timestamp\"):\n",
    "        date_cols.append(col_name)\n",
    "\n",
    "# Print categorized column names\n",
    "print(\"String Columns:\", string_cols)\n",
    "print(\"Numeric Columns:\", numeric_cols)\n",
    "print(\"Date Columns:\", date_cols)"
   ]
  },
  {
   "cell_type": "markdown",
   "metadata": {
    "id": "DYoYREY75vfo"
   },
   "source": [
    "Let's get all the numerical features and store them into a pandas dataframe."
   ]
  },
  {
   "cell_type": "code",
   "execution_count": 8,
   "metadata": {
    "colab": {
     "base_uri": "https://localhost:8080/",
     "height": 206
    },
    "id": "CWYeP2xp45Ot",
    "outputId": "c5a72014-9cad-4e3e-99bf-6b5dbbbd84d4"
   },
   "outputs": [
    {
     "name": "stdout",
     "output_type": "stream",
     "text": [
      "   tenure  MonthlyCharges  TotalCharges\n",
      "0       1           29.85         29.85\n",
      "1      34           56.95       1889.50\n",
      "2       2           53.85        108.15\n",
      "3      45           42.30       1840.75\n",
      "4       2           70.70        151.65\n"
     ]
    }
   ],
   "source": [
    "# Select numerical features\n",
    "df_numeric = data.select(numeric_cols)\n",
    "\n",
    "# Covert to Pandas DataFrame\n",
    "df_numeric_pandas = df_numeric.toPandas()\n",
    "\n",
    "# Display the results\n",
    "print(df_numeric_pandas.head())\n"
   ]
  },
  {
   "cell_type": "markdown",
   "metadata": {
    "id": "PZgNnbgnNtTe"
   },
   "source": [
    "Let's create histograms to analyse the distribution of our numerical columns. "
   ]
  },
  {
   "cell_type": "code",
   "execution_count": 9,
   "metadata": {
    "colab": {
     "base_uri": "https://localhost:8080/",
     "height": 974
    },
    "id": "gizkvQ3oNsuo",
    "outputId": "f56ba6ed-3112-42cb-845f-a637ae4c8489"
   },
   "outputs": [
    {
     "data": {
      "image/png": "[encoded data removed]",
      "text/plain": [
       "<Figure size 1200x800 with 4 Axes>"
      ]
     },
     "metadata": {},
     "output_type": "display_data"
    }
   ],
   "source": [
    "# Create a histogram\n",
    "df_numeric_pandas.hist(figsize=(12,8),\n",
    "                       bins=30,\n",
    "                       edgecolor=\"black\")\n",
    "plt.suptitle(\"Histogram of Numerical Columns\", fontsize=14)\n",
    "plt.show()"
   ]
  },
  {
   "cell_type": "markdown",
   "metadata": {
    "id": "9qjCcR72ru2_"
   },
   "source": [
    "Let's generate the correlation matrix "
   ]
  },
  {
   "cell_type": "code",
   "execution_count": 10,
   "metadata": {
    "colab": {
     "base_uri": "https://localhost:8080/",
     "height": 143
    },
    "id": "ldNx2GuVrvAR",
    "outputId": "ae29ba81-c8bb-4b06-83f3-e9338143f7fc"
   },
   "outputs": [
    {
     "data": {
      "image/png": "[encoded data removed]",
      "text/plain": [
       "<Figure size 1000x800 with 2 Axes>"
      ]
     },
     "metadata": {},
     "output_type": "display_data"
    }
   ],
   "source": [
    "# Compute the correlation matrix\n",
    "corr_matrix = df_numeric_pandas.corr()\n",
    "\n",
    "# Plot heatmap\n",
    "plt.figure(figsize=(10,8))\n",
    "sns.heatmap(corr_matrix, annot=True, cmap=\"coolwarm\", fmt=\".2f\", linewidths=0.5)\n",
    "plt.title(\"Correlation Matrix of Numerical Features\")\n",
    "plt.show()"
   ]
  },
  {
   "cell_type": "markdown",
   "metadata": {
    "id": "vbBRqQQJhmqg"
   },
   "source": [
    "Let's check the unique value count per each categorical variables"
   ]
  },
  {
   "cell_type": "code",
   "execution_count": 11,
   "metadata": {
    "colab": {
     "base_uri": "https://localhost:8080/"
    },
    "id": "pgXj3fjJb0th",
    "outputId": "2caa145f-55b2-4dae-a297-e74a8ea857d6"
   },
   "outputs": [
    {
     "name": "stderr",
     "output_type": "stream",
     "text": [
      "Java HotSpot(TM) 64-Bit Server VM warning: CodeCache is full. Compiler has been disabled.\n",
      "Java HotSpot(TM) 64-Bit Server VM warning: Try increasing the code cache size using -XX:ReservedCodeCacheSize=\n"
     ]
    },
    {
     "name": "stdout",
     "output_type": "stream",
     "text": [
      "CodeCache: size=131072Kb used=29773Kb max_used=29853Kb free=101298Kb\n",
      " bounds [0x00000001061f8000, 0x0000000107f58000, 0x000000010e1f8000]\n",
      " total_blobs=11578 nmethods=10634 adapters=856\n",
      " compilation: disabled (not enough contiguous free space left)\n",
      "              Column  Unique Count\n",
      "0         customerID          7043\n",
      "1             gender             2\n",
      "2      SeniorCitizen             2\n",
      "3            Partner             2\n",
      "4         Dependents             2\n",
      "5       PhoneService             2\n",
      "6      MultipleLines             3\n",
      "7    InternetService             3\n",
      "8     OnlineSecurity             3\n",
      "9       OnlineBackup             3\n",
      "10  DeviceProtection             3\n",
      "11       TechSupport             3\n",
      "12       StreamingTV             3\n",
      "13   StreamingMovies             3\n",
      "14          Contract             3\n",
      "15  PaperlessBilling             2\n",
      "16     PaymentMethod             4\n",
      "17             Churn             2\n"
     ]
    }
   ],
   "source": [
    "# Count unique values per categorical columns\n",
    "unique_counts = {col: data.select(col).distinct().count() for col in string_cols}\n",
    "\n",
    "# Convert to Pandas DataFrame\n",
    "unique_counts_df = pd.DataFrame(list(unique_counts.items()), columns=[\"Column\", \"Unique Count\"])\n",
    "\n",
    "# Display results\n",
    "print(unique_counts_df)"
   ]
  },
  {
   "cell_type": "markdown",
   "metadata": {
    "id": "mgmiBcimTw5z"
   },
   "source": [
    "Let's find number of null values in all of our dataframe columns"
   ]
  },
  {
   "cell_type": "code",
   "execution_count": 12,
   "metadata": {
    "colab": {
     "base_uri": "https://localhost:8080/"
    },
    "id": "-vlBo7LWT1kB",
    "outputId": "d783add2-6bc8-4cc2-bf33-384bce02ed9a"
   },
   "outputs": [
    {
     "name": "stdout",
     "output_type": "stream",
     "text": [
      "              Column  Null_Count\n",
      "0         customerID           0\n",
      "1             gender           0\n",
      "2      SeniorCitizen           0\n",
      "3            Partner           0\n",
      "4         Dependents           0\n",
      "5             tenure           0\n",
      "6       PhoneService           0\n",
      "7      MultipleLines           0\n",
      "8    InternetService           0\n",
      "9     OnlineSecurity           0\n",
      "10      OnlineBackup           0\n",
      "11  DeviceProtection           0\n",
      "12       TechSupport           0\n",
      "13       StreamingTV           0\n",
      "14   StreamingMovies           0\n",
      "15          Contract           0\n",
      "16  PaperlessBilling           0\n",
      "17     PaymentMethod           0\n",
      "18    MonthlyCharges           0\n",
      "19      TotalCharges          11\n",
      "20             Churn           0\n"
     ]
    }
   ],
   "source": [
    "# Count null values for each column\n",
    "null_counts = {col_name: data.filter(col(col_name).isNull()).count() for col_name in data.columns}\n",
    "\n",
    "# Convert to Pandas DataFrame for easy viewing\n",
    "null_counts_df = pd.DataFrame(list(null_counts.items()), columns=[\"Column\", \"Null_Count\"])\n",
    "\n",
    "# Display the results\n",
    "print(null_counts_df)"
   ]
  },
  {
   "cell_type": "markdown",
   "metadata": {
    "id": "WcTLE0ZdS-so"
   },
   "source": [
    "### **Task 3 - Data Preprocessing**\n",
    "- Handling the missing values\n",
    "- Removing the outliers"
   ]
  },
  {
   "cell_type": "markdown",
   "metadata": {
    "id": "bDKvkUiwzt_H"
   },
   "source": [
    "**Handling the missing values** <br>\n",
    "Let's create a list of column names with missing values"
   ]
  },
  {
   "cell_type": "code",
   "execution_count": 13,
   "metadata": {
    "id": "ABZfAKxRS3CN"
   },
   "outputs": [
    {
     "name": "stdout",
     "output_type": "stream",
     "text": [
      "Columns with missing values:  {'customerID': 0, 'gender': 0, 'SeniorCitizen': 0, 'Partner': 0, 'Dependents': 0, 'tenure': 0, 'PhoneService': 0, 'MultipleLines': 0, 'InternetService': 0, 'OnlineSecurity': 0, 'OnlineBackup': 0, 'DeviceProtection': 0, 'TechSupport': 0, 'StreamingTV': 0, 'StreamingMovies': 0, 'Contract': 0, 'PaperlessBilling': 0, 'PaymentMethod': 0, 'MonthlyCharges': 0, 'TotalCharges': 11, 'Churn': 0}\n"
     ]
    }
   ],
   "source": [
    "# Get columns with missing values\n",
    "missing_columns = null_counts_df.loc[:, (null_counts_df != 0).any(axis=0)].columns.tolist()\n",
    "\n",
    "# Display columns with missing values\n",
    "print(\"Columns with missing values: \", null_counts)"
   ]
  },
  {
   "cell_type": "markdown",
   "metadata": {
    "id": "ny4cfwKYzzJN"
   },
   "source": [
    "Creating our Imputer"
   ]
  },
  {
   "cell_type": "code",
   "execution_count": 14,
   "metadata": {
    "id": "lqBhbzyNzyFs"
   },
   "outputs": [
    {
     "name": "stdout",
     "output_type": "stream",
     "text": [
      "+----------+------+-------------+-------+----------+------+------------+----------------+---------------+-------------------+-------------------+-------------------+-------------------+-------------------+-------------------+--------------+----------------+--------------------+--------------+-----+------------+\n",
      "|customerID|gender|SeniorCitizen|Partner|Dependents|tenure|PhoneService|   MultipleLines|InternetService|     OnlineSecurity|       OnlineBackup|   DeviceProtection|        TechSupport|        StreamingTV|    StreamingMovies|      Contract|PaperlessBilling|       PaymentMethod|MonthlyCharges|Churn|TotalCharges|\n",
      "+----------+------+-------------+-------+----------+------+------------+----------------+---------------+-------------------+-------------------+-------------------+-------------------+-------------------+-------------------+--------------+----------------+--------------------+--------------+-----+------------+\n",
      "|7590-VHVEG|Female|           No|    Yes|        No|     1|          No|No phone service|            DSL|                 No|                Yes|                 No|                 No|                 No|                 No|Month-to-month|             Yes|    Electronic check|         29.85|   No|       29.85|\n",
      "|5575-GNVDE|  Male|           No|     No|        No|    34|         Yes|              No|            DSL|                Yes|                 No|                Yes|                 No|                 No|                 No|      One year|              No|        Mailed check|         56.95|   No|      1889.5|\n",
      "|3668-QPYBK|  Male|           No|     No|        No|     2|         Yes|              No|            DSL|                Yes|                Yes|                 No|                 No|                 No|                 No|Month-to-month|             Yes|        Mailed check|         53.85|  Yes|      108.15|\n",
      "|7795-CFOCW|  Male|           No|     No|        No|    45|          No|No phone service|            DSL|                Yes|                 No|                Yes|                Yes|                 No|                 No|      One year|              No|Bank transfer (au...|          42.3|   No|     1840.75|\n",
      "|9237-HQITU|Female|           No|     No|        No|     2|         Yes|              No|    Fiber optic|                 No|                 No|                 No|                 No|                 No|                 No|Month-to-month|             Yes|    Electronic check|          70.7|  Yes|      151.65|\n",
      "|9305-CDSKC|Female|           No|     No|        No|     8|         Yes|             Yes|    Fiber optic|                 No|                 No|                Yes|                 No|                Yes|                Yes|Month-to-month|             Yes|    Electronic check|         99.65|  Yes|       820.5|\n",
      "|1452-KIOVK|  Male|           No|     No|       Yes|    22|         Yes|             Yes|    Fiber optic|                 No|                Yes|                 No|                 No|                Yes|                 No|Month-to-month|             Yes|Credit card (auto...|          89.1|   No|      1949.4|\n",
      "|6713-OKOMC|Female|           No|     No|        No|    10|          No|No phone service|            DSL|                Yes|                 No|                 No|                 No|                 No|                 No|Month-to-month|              No|        Mailed check|         29.75|   No|       301.9|\n",
      "|7892-POOKP|Female|           No|    Yes|        No|    28|         Yes|             Yes|    Fiber optic|                 No|                 No|                Yes|                Yes|                Yes|                Yes|Month-to-month|             Yes|    Electronic check|         104.8|  Yes|     3046.05|\n",
      "|6388-TABGU|  Male|           No|     No|       Yes|    62|         Yes|              No|            DSL|                Yes|                Yes|                 No|                 No|                 No|                 No|      One year|              No|Bank transfer (au...|         56.15|   No|     3487.95|\n",
      "|9763-GRSKD|  Male|           No|    Yes|       Yes|    13|         Yes|              No|            DSL|                Yes|                 No|                 No|                 No|                 No|                 No|Month-to-month|             Yes|        Mailed check|         49.95|   No|      587.45|\n",
      "|7469-LKBCI|  Male|           No|     No|        No|    16|         Yes|              No|             No|No internet service|No internet service|No internet service|No internet service|No internet service|No internet service|      Two year|              No|Credit card (auto...|         18.95|   No|       326.8|\n",
      "|8091-TTVAX|  Male|           No|    Yes|        No|    58|         Yes|             Yes|    Fiber optic|                 No|                 No|                Yes|                 No|                Yes|                Yes|      One year|              No|Credit card (auto...|        100.35|   No|      5681.1|\n",
      "|0280-XJGEX|  Male|           No|     No|        No|    49|         Yes|             Yes|    Fiber optic|                 No|                Yes|                Yes|                 No|                Yes|                Yes|Month-to-month|             Yes|Bank transfer (au...|         103.7|  Yes|      5036.3|\n",
      "|5129-JLPIS|  Male|           No|     No|        No|    25|         Yes|              No|    Fiber optic|                Yes|                 No|                Yes|                Yes|                Yes|                Yes|Month-to-month|             Yes|    Electronic check|         105.5|   No|     2686.05|\n",
      "|3655-SNQYZ|Female|           No|    Yes|       Yes|    69|         Yes|             Yes|    Fiber optic|                Yes|                Yes|                Yes|                Yes|                Yes|                Yes|      Two year|              No|Credit card (auto...|        113.25|   No|     7895.15|\n",
      "|8191-XWSZG|Female|           No|     No|        No|    52|         Yes|              No|             No|No internet service|No internet service|No internet service|No internet service|No internet service|No internet service|      One year|              No|        Mailed check|         20.65|   No|     1022.95|\n",
      "|9959-WOFKT|  Male|           No|     No|       Yes|    71|         Yes|             Yes|    Fiber optic|                Yes|                 No|                Yes|                 No|                Yes|                Yes|      Two year|              No|Bank transfer (au...|         106.7|   No|     7382.25|\n",
      "|4190-MFLUW|Female|           No|    Yes|       Yes|    10|         Yes|              No|            DSL|                 No|                 No|                Yes|                Yes|                 No|                 No|Month-to-month|              No|Credit card (auto...|          55.2|  Yes|      528.35|\n",
      "|4183-MYFRB|Female|           No|     No|        No|    21|         Yes|              No|    Fiber optic|                 No|                Yes|                Yes|                 No|                 No|                Yes|Month-to-month|             Yes|    Electronic check|         90.05|   No|      1862.9|\n",
      "+----------+------+-------------+-------+----------+------+------------+----------------+---------------+-------------------+-------------------+-------------------+-------------------+-------------------+-------------------+--------------+----------------+--------------------+--------------+-----+------------+\n",
      "only showing top 20 rows\n",
      "\n"
     ]
    }
   ],
   "source": [
    "# Identify numerical columns with missing values\n",
    "num_missing_cols = [c for c in numeric_cols if data.filter(col(c).isNull()).count()> 0]\n",
    "\n",
    "# Apply Imputer for numerical columns\n",
    "if num_missing_cols:\n",
    "    imputer = Imputer(inputCols=num_missing_cols, outputCols=[c + \"_imputed\" for c in num_missing_cols], strategy=\"mean\")\n",
    "    data = imputer.fit(data).transform(data)\n",
    "    \n",
    "# Identify string columns with missing values\n",
    "str_missing_cols = [c for c in string_cols if data.filter(col(c).isNull()).count() > 0]\n",
    "\n",
    "# Fill missing values with \"Unknown\"\n",
    "data = data.fillna({c: \"Unknown\" for c in str_missing_cols})\n",
    "\n",
    "# Drop old numerical columns and rename imputed column\n",
    "for col_name in num_missing_cols:\n",
    "    data = data.drop(col_name).withColumnRenamed(col_name + \"_imputed\", col_name)\n",
    "    \n",
    "# Show updated DataFrame\n",
    "data.show()"
   ]
  },
  {
   "cell_type": "markdown",
   "metadata": {
    "id": "8fKFfw2G0A4j"
   },
   "source": [
    "Let's check the missing value counts again"
   ]
  },
  {
   "cell_type": "code",
   "execution_count": 15,
   "metadata": {
    "colab": {
     "base_uri": "https://localhost:8080/"
    },
    "id": "LscLsydL0Dg_",
    "outputId": "7ce07901-f7c6-4b85-f373-825dfff84d05"
   },
   "outputs": [
    {
     "name": "stderr",
     "output_type": "stream",
     "text": [
      "                                                                                \r"
     ]
    },
    {
     "name": "stdout",
     "output_type": "stream",
     "text": [
      "              Column  Missing_Values\n",
      "0         customerID               0\n",
      "1             gender               0\n",
      "2      SeniorCitizen               0\n",
      "3            Partner               0\n",
      "4         Dependents               0\n",
      "5             tenure               0\n",
      "6       PhoneService               0\n",
      "7      MultipleLines               0\n",
      "8    InternetService               0\n",
      "9     OnlineSecurity               0\n",
      "10      OnlineBackup               0\n",
      "11  DeviceProtection               0\n",
      "12       TechSupport               0\n",
      "13       StreamingTV               0\n",
      "14   StreamingMovies               0\n",
      "15          Contract               0\n",
      "16  PaperlessBilling               0\n",
      "17     PaymentMethod               0\n",
      "18    MonthlyCharges               0\n",
      "19             Churn               0\n",
      "20      TotalCharges               0\n"
     ]
    }
   ],
   "source": [
    "# Count NULL and NaN values for each column\n",
    "null_counts_df = data.select(\n",
    "    [(count(when(col(c).isNull() | isnan(col(c)), c)).alias(c)) for c in data.columns]\n",
    ").toPandas()\n",
    "\n",
    "# Transpose for better readability\n",
    "null_counts_df = null_counts_df.T.reset_index()\n",
    "null_counts_df.columns = [\"Column\", \"Missing_Values\"]\n",
    "\n",
    "# Display missing value counts\n",
    "print(null_counts_df)"
   ]
  },
  {
   "cell_type": "markdown",
   "metadata": {
    "id": "g9JJoI4_1Ao5"
   },
   "source": [
    "**Removing the outliers** <br>\n",
    "Let's find the customer with the tenure higher than 100 "
   ]
  },
  {
   "cell_type": "code",
   "execution_count": 16,
   "metadata": {
    "colab": {
     "base_uri": "https://localhost:8080/"
    },
    "id": "GuUgYzfM1ICN",
    "outputId": "2ab253ce-9a55-449f-c1c0-c8e8bd12543c"
   },
   "outputs": [
    {
     "name": "stdout",
     "output_type": "stream",
     "text": [
      "+----------+------+-------------+-------+----------+------+------------+-------------+---------------+--------------+------------+----------------+-----------+-----------+---------------+--------------+----------------+----------------+--------------+-----+------------+\n",
      "|customerID|gender|SeniorCitizen|Partner|Dependents|tenure|PhoneService|MultipleLines|InternetService|OnlineSecurity|OnlineBackup|DeviceProtection|TechSupport|StreamingTV|StreamingMovies|      Contract|PaperlessBilling|   PaymentMethod|MonthlyCharges|Churn|TotalCharges|\n",
      "+----------+------+-------------+-------+----------+------+------------+-------------+---------------+--------------+------------+----------------+-----------+-----------+---------------+--------------+----------------+----------------+--------------+-----+------------+\n",
      "|5122-CYFXA|Female|           No|     No|        No|   458|         Yes|           No|            DSL|            No|         Yes|              No|        Yes|        Yes|            Yes|Month-to-month|             Yes|Electronic check|          75.3|   No|       244.1|\n",
      "+----------+------+-------------+-------+----------+------+------------+-------------+---------------+--------------+------------+----------------+-----------+-----------+---------------+--------------+----------------+----------------+--------------+-----+------------+\n",
      "\n"
     ]
    }
   ],
   "source": [
    "# Filter customers with tenure > 100\n",
    "data.filter(col(\"tenure\") > 100).show()"
   ]
  },
  {
   "cell_type": "markdown",
   "metadata": {
    "id": "YcaebVkh2CoU"
   },
   "source": [
    "Let's drop the outlier row"
   ]
  },
  {
   "cell_type": "code",
   "execution_count": 17,
   "metadata": {
    "colab": {
     "base_uri": "https://localhost:8080/"
    },
    "id": "ANT7iLlB2Et5",
    "outputId": "546823e5-cfc3-4b2b-f335-8e5220efedf8"
   },
   "outputs": [
    {
     "name": "stdout",
     "output_type": "stream",
     "text": [
      "+----------+------+-------------+-------+----------+------+------------+----------------+---------------+-------------------+-------------------+-------------------+-------------------+-------------------+-------------------+--------------+----------------+--------------------+--------------+-----+------------+\n",
      "|customerID|gender|SeniorCitizen|Partner|Dependents|tenure|PhoneService|   MultipleLines|InternetService|     OnlineSecurity|       OnlineBackup|   DeviceProtection|        TechSupport|        StreamingTV|    StreamingMovies|      Contract|PaperlessBilling|       PaymentMethod|MonthlyCharges|Churn|TotalCharges|\n",
      "+----------+------+-------------+-------+----------+------+------------+----------------+---------------+-------------------+-------------------+-------------------+-------------------+-------------------+-------------------+--------------+----------------+--------------------+--------------+-----+------------+\n",
      "|7590-VHVEG|Female|           No|    Yes|        No|     1|          No|No phone service|            DSL|                 No|                Yes|                 No|                 No|                 No|                 No|Month-to-month|             Yes|    Electronic check|         29.85|   No|       29.85|\n",
      "|5575-GNVDE|  Male|           No|     No|        No|    34|         Yes|              No|            DSL|                Yes|                 No|                Yes|                 No|                 No|                 No|      One year|              No|        Mailed check|         56.95|   No|      1889.5|\n",
      "|3668-QPYBK|  Male|           No|     No|        No|     2|         Yes|              No|            DSL|                Yes|                Yes|                 No|                 No|                 No|                 No|Month-to-month|             Yes|        Mailed check|         53.85|  Yes|      108.15|\n",
      "|7795-CFOCW|  Male|           No|     No|        No|    45|          No|No phone service|            DSL|                Yes|                 No|                Yes|                Yes|                 No|                 No|      One year|              No|Bank transfer (au...|          42.3|   No|     1840.75|\n",
      "|9237-HQITU|Female|           No|     No|        No|     2|         Yes|              No|    Fiber optic|                 No|                 No|                 No|                 No|                 No|                 No|Month-to-month|             Yes|    Electronic check|          70.7|  Yes|      151.65|\n",
      "|9305-CDSKC|Female|           No|     No|        No|     8|         Yes|             Yes|    Fiber optic|                 No|                 No|                Yes|                 No|                Yes|                Yes|Month-to-month|             Yes|    Electronic check|         99.65|  Yes|       820.5|\n",
      "|1452-KIOVK|  Male|           No|     No|       Yes|    22|         Yes|             Yes|    Fiber optic|                 No|                Yes|                 No|                 No|                Yes|                 No|Month-to-month|             Yes|Credit card (auto...|          89.1|   No|      1949.4|\n",
      "|6713-OKOMC|Female|           No|     No|        No|    10|          No|No phone service|            DSL|                Yes|                 No|                 No|                 No|                 No|                 No|Month-to-month|              No|        Mailed check|         29.75|   No|       301.9|\n",
      "|7892-POOKP|Female|           No|    Yes|        No|    28|         Yes|             Yes|    Fiber optic|                 No|                 No|                Yes|                Yes|                Yes|                Yes|Month-to-month|             Yes|    Electronic check|         104.8|  Yes|     3046.05|\n",
      "|6388-TABGU|  Male|           No|     No|       Yes|    62|         Yes|              No|            DSL|                Yes|                Yes|                 No|                 No|                 No|                 No|      One year|              No|Bank transfer (au...|         56.15|   No|     3487.95|\n",
      "|9763-GRSKD|  Male|           No|    Yes|       Yes|    13|         Yes|              No|            DSL|                Yes|                 No|                 No|                 No|                 No|                 No|Month-to-month|             Yes|        Mailed check|         49.95|   No|      587.45|\n",
      "|7469-LKBCI|  Male|           No|     No|        No|    16|         Yes|              No|             No|No internet service|No internet service|No internet service|No internet service|No internet service|No internet service|      Two year|              No|Credit card (auto...|         18.95|   No|       326.8|\n",
      "|8091-TTVAX|  Male|           No|    Yes|        No|    58|         Yes|             Yes|    Fiber optic|                 No|                 No|                Yes|                 No|                Yes|                Yes|      One year|              No|Credit card (auto...|        100.35|   No|      5681.1|\n",
      "|0280-XJGEX|  Male|           No|     No|        No|    49|         Yes|             Yes|    Fiber optic|                 No|                Yes|                Yes|                 No|                Yes|                Yes|Month-to-month|             Yes|Bank transfer (au...|         103.7|  Yes|      5036.3|\n",
      "|5129-JLPIS|  Male|           No|     No|        No|    25|         Yes|              No|    Fiber optic|                Yes|                 No|                Yes|                Yes|                Yes|                Yes|Month-to-month|             Yes|    Electronic check|         105.5|   No|     2686.05|\n",
      "|3655-SNQYZ|Female|           No|    Yes|       Yes|    69|         Yes|             Yes|    Fiber optic|                Yes|                Yes|                Yes|                Yes|                Yes|                Yes|      Two year|              No|Credit card (auto...|        113.25|   No|     7895.15|\n",
      "|8191-XWSZG|Female|           No|     No|        No|    52|         Yes|              No|             No|No internet service|No internet service|No internet service|No internet service|No internet service|No internet service|      One year|              No|        Mailed check|         20.65|   No|     1022.95|\n",
      "|9959-WOFKT|  Male|           No|     No|       Yes|    71|         Yes|             Yes|    Fiber optic|                Yes|                 No|                Yes|                 No|                Yes|                Yes|      Two year|              No|Bank transfer (au...|         106.7|   No|     7382.25|\n",
      "|4190-MFLUW|Female|           No|    Yes|       Yes|    10|         Yes|              No|            DSL|                 No|                 No|                Yes|                Yes|                 No|                 No|Month-to-month|              No|Credit card (auto...|          55.2|  Yes|      528.35|\n",
      "|4183-MYFRB|Female|           No|     No|        No|    21|         Yes|              No|    Fiber optic|                 No|                Yes|                Yes|                 No|                 No|                Yes|Month-to-month|             Yes|    Electronic check|         90.05|   No|      1862.9|\n",
      "+----------+------+-------------+-------+----------+------+------------+----------------+---------------+-------------------+-------------------+-------------------+-------------------+-------------------+-------------------+--------------+----------------+--------------------+--------------+-----+------------+\n",
      "only showing top 20 rows\n",
      "\n"
     ]
    }
   ],
   "source": [
    "# Remove rows where tenure > 100\n",
    "data = data.filter(col(\"tenure\") <= 100)\n",
    "\n",
    "# Verify changes\n",
    "data.show()"
   ]
  },
  {
   "cell_type": "markdown",
   "metadata": {
    "id": "CQMD4VIuPDen"
   },
   "source": [
    "### **Task 4 - Feature Preparation**\n",
    "- Numerical Features \n",
    "    - Vector Assembling\n",
    "    - Numerical Scaling\n",
    "- Categorical Features\n",
    "    - String Indexing\n",
    "    - Vector Assembling\n",
    "\n",
    "- Combining the numerical and categorical feature vectors\n",
    "\n",
    "\n",
    "\n",
    "\n",
    "**Feature Preparation - Numerical Features** <br>\n",
    "\n",
    "`Vector Assembling --> Standard Scaling` <br>\n",
    "\n",
    "**Vector Assembling** <br>\n",
    "To apply our machine learning model we need to combine all of our numerical and categorical features into vectors. For now let's create a feature vector for our numerical columns.\n"
   ]
  },
  {
   "cell_type": "code",
   "execution_count": 18,
   "metadata": {
    "colab": {
     "base_uri": "https://localhost:8080/"
    },
    "id": "7_g7Hu3HPC9Q",
    "outputId": "97777af8-b505-4711-fddd-fbf851c3feca"
   },
   "outputs": [
    {
     "name": "stdout",
     "output_type": "stream",
     "text": [
      "+---------------------+\n",
      "|num_features         |\n",
      "+---------------------+\n",
      "|[1.0,29.85,29.85]    |\n",
      "|[34.0,56.95,1889.5]  |\n",
      "|[2.0,53.85,108.15]   |\n",
      "|[45.0,42.3,1840.75]  |\n",
      "|[2.0,70.7,151.65]    |\n",
      "|[8.0,99.65,820.5]    |\n",
      "|[22.0,89.1,1949.4]   |\n",
      "|[10.0,29.75,301.9]   |\n",
      "|[28.0,104.8,3046.05] |\n",
      "|[62.0,56.15,3487.95] |\n",
      "|[13.0,49.95,587.45]  |\n",
      "|[16.0,18.95,326.8]   |\n",
      "|[58.0,100.35,5681.1] |\n",
      "|[49.0,103.7,5036.3]  |\n",
      "|[25.0,105.5,2686.05] |\n",
      "|[69.0,113.25,7895.15]|\n",
      "|[52.0,20.65,1022.95] |\n",
      "|[71.0,106.7,7382.25] |\n",
      "|[10.0,55.2,528.35]   |\n",
      "|[21.0,90.05,1862.9]  |\n",
      "+---------------------+\n",
      "only showing top 20 rows\n",
      "\n"
     ]
    }
   ],
   "source": [
    "# Create VectorAssembler\n",
    "assembler = VectorAssembler(inputCols=numeric_cols, outputCol=\"num_features\")\n",
    "\n",
    "# Transform the DataFrame\n",
    "data = assembler.transform(data)\n",
    "\n",
    "# Show results\n",
    "data.select(\"num_features\").show(truncate=False)"
   ]
  },
  {
   "cell_type": "markdown",
   "metadata": {
    "id": "U39MK-kfYnpc"
   },
   "source": [
    "**Numerical Scaling** <br>\n",
    "Let's standardize all of our numerical features. "
   ]
  },
  {
   "cell_type": "code",
   "execution_count": 19,
   "metadata": {
    "colab": {
     "base_uri": "https://localhost:8080/"
    },
    "id": "RqvD874WSQEs",
    "outputId": "8ea4e461-a1a1-4f5a-8273-6daa88eeb2d1"
   },
   "outputs": [
    {
     "name": "stdout",
     "output_type": "stream",
     "text": [
      "+---------------------------------------------------------------+\n",
      "|scaled_features                                                |\n",
      "+---------------------------------------------------------------+\n",
      "|[-1.2775627682208068,-1.1601185306298927,-0.9950152145479357]  |\n",
      "|[0.06615490566075274,-0.25954460633168197,-0.17398881878893097]|\n",
      "|[-1.2368440508304566,-0.36256228770896815,-0.9604461468266279] |\n",
      "|[0.5140607969546059,-0.7463862296146632,-0.19551170578016666]  |\n",
      "|[-1.2368440508304566,0.19738865784176432,-0.9412411092036791]  |\n",
      "|[-0.9925317464883547,1.1594408758651296,-0.6459470996839253]   |\n",
      "|[-0.4224697030234507,0.8088484440811394,-0.14754326123457157]  |\n",
      "|[-0.9110943117076542,-1.1634416816420632,-0.8749064677588962]  |\n",
      "|[-0.17815739868134897,1.330583152991911,0.3366223596667339]    |\n",
      "|[1.2062789925905608,-0.2861298144290463,0.5317190522088272]    |\n",
      "|[-0.7889381595366033,-0.4921651771836183,-0.7488375368799761]  |\n",
      "|[-0.6667820073655525,-1.522341990956479,-0.8639132393264497]   |\n",
      "|[1.0434041230291597,1.182702932950323,1.499984069743773]       |\n",
      "|[0.6769356665160071,1.2940284918580354,1.215308017806362]      |\n",
      "|[-0.30031355085239986,1.3538452100771048,0.17768411726991637]  |\n",
      "|[1.491310014323013,1.61138941352032,2.477476335240089]         |\n",
      "|[0.7990918186870579,-1.4658484237495804,-0.5565664130916038]   |\n",
      "|[1.5727474491037134,1.393723022223151,2.251033489336401]       |\n",
      "|[-0.9110943117076542,-0.3176997490446661,-0.7749298983401204]  |\n",
      "|[-0.463188420413801,0.8404183786967595,-0.18573258892158465]   |\n",
      "+---------------------------------------------------------------+\n",
      "only showing top 20 rows\n",
      "\n"
     ]
    }
   ],
   "source": [
    "# Apply StandardScaler\n",
    "scaler = StandardScaler(inputCol=\"num_features\", outputCol=\"scaled_features\", withMean=True, withStd=True)\n",
    "scaler_model = scaler.fit(data)\n",
    "data = scaler_model.transform(data)\n",
    "\n",
    "# Display results\n",
    "data.select(\"scaled_features\").show(truncate=False)"
   ]
  },
  {
   "cell_type": "markdown",
   "metadata": {
    "id": "KfbVsiv6Z1SM"
   },
   "source": [
    "**Feature Preperation - Categorical Features** <br>\n",
    "\n",
    "`String Indexing --> Vector Assembling` <br>\n",
    "\n",
    "**String Indexing** <br>\n",
    "We need to convert all the string columns to numeric columns."
   ]
  },
  {
   "cell_type": "code",
   "execution_count": null,
   "metadata": {
    "colab": {
     "base_uri": "https://localhost:8080/"
    },
    "id": "U7xmubmpZ1zo",
    "outputId": "648ec4c6-11e1-4861-d132-b29b414882c4"
   },
   "outputs": [],
   "source": [
    "# Apply StringIndexer to each string column"
   ]
  },
  {
   "cell_type": "markdown",
   "metadata": {
    "id": "566hiGhl_1m0"
   },
   "source": [
    "Let's combine all of our categorifal features in to one feature vector."
   ]
  },
  {
   "cell_type": "code",
   "execution_count": null,
   "metadata": {
    "colab": {
     "base_uri": "https://localhost:8080/"
    },
    "id": "Uh0qcHDb6q8t",
    "outputId": "a11c2930-1388-4844-b5f5-b36b093ea034"
   },
   "outputs": [],
   "source": []
  },
  {
   "cell_type": "markdown",
   "metadata": {
    "id": "4G0bVH-vALJt"
   },
   "source": [
    "Now let's combine categorical and numerical feature vectors."
   ]
  },
  {
   "cell_type": "code",
   "execution_count": null,
   "metadata": {
    "colab": {
     "base_uri": "https://localhost:8080/"
    },
    "id": "UrsFk-CZZgrV",
    "outputId": "0d36be9b-0157-4f42-e115-8da195881620"
   },
   "outputs": [],
   "source": []
  },
  {
   "cell_type": "markdown",
   "metadata": {
    "id": "_og11F0MdrYE"
   },
   "source": [
    "### **Task 5 - Model Training**\n",
    "- Train and Test data splitting \n",
    "- Creating our model \n",
    "- Training our model \n",
    "- Make initial predictions using our model\n",
    "\n",
    "In this task, we are going to start training our model"
   ]
  },
  {
   "cell_type": "code",
   "execution_count": null,
   "metadata": {
    "colab": {
     "base_uri": "https://localhost:8080/"
    },
    "id": "8VFwkblddkdV",
    "outputId": "bde88d04-2ed7-43a2-9e6b-d343e6b6e81b"
   },
   "outputs": [],
   "source": []
  },
  {
   "cell_type": "markdown",
   "metadata": {
    "id": "aiAJrl8oEKIk"
   },
   "source": [
    "Now let's create and train our desicion tree"
   ]
  },
  {
   "cell_type": "code",
   "execution_count": null,
   "metadata": {
    "id": "bObhrM_4nKCf"
   },
   "outputs": [],
   "source": []
  },
  {
   "cell_type": "markdown",
   "metadata": {
    "id": "cy_-7W2LEO9j"
   },
   "source": [
    "Let's make predictions on our test data"
   ]
  },
  {
   "cell_type": "code",
   "execution_count": null,
   "metadata": {
    "colab": {
     "base_uri": "https://localhost:8080/"
    },
    "id": "AqU9-y6dEOqq",
    "outputId": "67be60e9-f5c5-4f39-fcfb-1ff153ecff22"
   },
   "outputs": [],
   "source": []
  },
  {
   "cell_type": "markdown",
   "metadata": {
    "id": "sZXX1rqz8hoT"
   },
   "source": [
    "### **Task 6 - Model Evaluation**\n",
    "- Calculating area under the ROC curve for the `test` set \n",
    "- Calculating area under the ROC curve for the `training` set \n",
    "- Hyper parameter tuning"
   ]
  },
  {
   "cell_type": "code",
   "execution_count": null,
   "metadata": {
    "colab": {
     "base_uri": "https://localhost:8080/"
    },
    "id": "V8Ldw-rno18o",
    "outputId": "57f300dc-9763-4817-c5e2-a107456061cc"
   },
   "outputs": [],
   "source": []
  },
  {
   "cell_type": "markdown",
   "metadata": {
    "id": "nXpG_p4BGEhq"
   },
   "source": [
    "Let's get the AUC for our `training` set"
   ]
  },
  {
   "cell_type": "code",
   "execution_count": null,
   "metadata": {
    "colab": {
     "base_uri": "https://localhost:8080/"
    },
    "id": "LVkrmoC8GErZ",
    "outputId": "7446fa6f-7d62-411f-bf7b-16f2dd2c35fa"
   },
   "outputs": [],
   "source": []
  },
  {
   "cell_type": "markdown",
   "metadata": {
    "id": "HH4ZH3yFHbvS"
   },
   "source": [
    "**Hyper parameter tuning**\n",
    "\n",
    "Let's find the best `maxDepth` parameter for our DT model. "
   ]
  },
  {
   "cell_type": "code",
   "execution_count": 20,
   "metadata": {
    "id": "CwkzV8xLHNlE"
   },
   "outputs": [],
   "source": [
    "def evaluate_dt(mode_params):\n",
    "      test_accuracies = []\n",
    "      train_accuracies = []\n",
    "\n",
    "      for maxD in mode_params:\n",
    "        # train the model based on the maxD\n",
    "        decision_tree = DecisionTreeClassifier(featuresCol = 'final_feature_vector', labelCol = 'Churn_Indexed', maxDepth = maxD)\n",
    "        dtModel = decision_tree.fit(train)\n",
    "\n",
    "        # calculating test error \n",
    "        predictions_test = dtModel.transform(test)\n",
    "        evaluator = BinaryClassificationEvaluator(labelCol=\"Churn_Indexed\")\n",
    "        auc_test = evaluator.evaluate(predictions_test, {evaluator.metricName: \"areaUnderROC\"})\n",
    "        # recording the accuracy \n",
    "        test_accuracies.append(auc_test)\n",
    "\n",
    "        # calculating training error\n",
    "        predictions_training = dtModel.transform(train)\n",
    "        evaluator = BinaryClassificationEvaluator(labelCol=\"Churn_Indexed\")\n",
    "        auc_training = evaluator.evaluate(predictions_training, {evaluator.metricName: \"areaUnderROC\"})\n",
    "        train_accuracies.append(auc_training)\n",
    "\n",
    "      return(test_accuracies, train_accuracies)  "
   ]
  },
  {
   "cell_type": "markdown",
   "metadata": {
    "id": "37QrYjWvcE4Z"
   },
   "source": [
    "Let's define `params` list to evaluate our model iteratively with differe maxDepth parameter.  "
   ]
  },
  {
   "cell_type": "code",
   "execution_count": null,
   "metadata": {
    "colab": {
     "base_uri": "https://localhost:8080/"
    },
    "id": "6rVz17-jIoVC",
    "outputId": "0a4f788a-d1b9-4862-fe75-12723cf56f31"
   },
   "outputs": [],
   "source": []
  },
  {
   "cell_type": "markdown",
   "metadata": {
    "id": "3uBlqQ2-cWCm"
   },
   "source": [
    "Let's visualize our results"
   ]
  },
  {
   "cell_type": "code",
   "execution_count": null,
   "metadata": {
    "colab": {
     "base_uri": "https://localhost:8080/",
     "height": 542
    },
    "id": "PqFqOfKvJATk",
    "outputId": "6241d01a-cfad-4fcc-8e8f-eaf83a6cd3f5"
   },
   "outputs": [],
   "source": []
  },
  {
   "cell_type": "markdown",
   "metadata": {
    "id": "koCUPBFUKDIZ"
   },
   "source": [
    "### **7 - Model Deployment**\n",
    "- Giving Recommendations using our model "
   ]
  },
  {
   "cell_type": "markdown",
   "metadata": {
    "id": "xomU5qnMUdWJ"
   },
   "source": [
    "\n",
    "\n",
    "We were asked to recommend a solution to reduce the customer churn. \n"
   ]
  },
  {
   "cell_type": "code",
   "execution_count": null,
   "metadata": {
    "colab": {
     "base_uri": "https://localhost:8080/",
     "height": 542
    },
    "id": "1FIFIqdLsAvq",
    "outputId": "ba7de309-8415-42dc-fba0-7712632d8509"
   },
   "outputs": [],
   "source": []
  },
  {
   "cell_type": "markdown",
   "metadata": {
    "id": "n_FrIiJwWuwg"
   },
   "source": [
    "Let's create a bar chart to visualize the customer churn per contract type"
   ]
  },
  {
   "cell_type": "code",
   "execution_count": null,
   "metadata": {
    "colab": {
     "base_uri": "https://localhost:8080/",
     "height": 542
    },
    "id": "V4eObw2aK7Qp",
    "outputId": "f824121b-15c7-4045-a0b5-0f4549ca2eea"
   },
   "outputs": [],
   "source": []
  },
  {
   "cell_type": "markdown",
   "metadata": {
    "id": "MhaY0_iA6pp1"
   },
   "source": [
    "The bar chart displays the number of churned customers based on their contract type. It is evident that customers with a \"Month-to-month\" contract have a higher churn rate compared to those with \"One year\" or \"Two year\" contracts. As a recommendation, the telecommunication company could consider offering incentives or discounts to encourage customers with month-to-month contracts to switch to longer-term contracts. "
   ]
  }
 ],
 "metadata": {
  "colab": {
   "collapsed_sections": [
    "O1eOogPqix4i",
    "oZzDBEKT2H9P",
    "WcTLE0ZdS-so",
    "CQMD4VIuPDen",
    "_og11F0MdrYE",
    "sZXX1rqz8hoT",
    "koCUPBFUKDIZ"
   ],
   "provenance": []
  },
  "kernelspec": {
   "display_name": "myenv",
   "language": "python",
   "name": "python3"
  },
  "language_info": {
   "codemirror_mode": {
    "name": "ipython",
    "version": 3
   },
   "file_extension": ".py",
   "mimetype": "text/x-python",
   "name": "python",
   "nbconvert_exporter": "python",
   "pygments_lexer": "ipython3",
   "version": "3.11.11"
  }
 },
 "nbformat": 4,
 "nbformat_minor": 1
}
